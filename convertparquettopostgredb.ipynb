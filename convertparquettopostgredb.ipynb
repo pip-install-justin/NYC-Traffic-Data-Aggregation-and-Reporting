{
 "cells": [
  {
   "cell_type": "code",
   "execution_count": 1,
   "id": "dec78188-6b72-47e1-b392-c700a553efdb",
   "metadata": {},
   "outputs": [],
   "source": [
    "##pip install pandas pyarrow psycopg2-binary"
   ]
  },
  {
   "cell_type": "code",
   "execution_count": 38,
   "id": "0cd5d1bc-e314-4f68-83e9-57a27fe93bf1",
   "metadata": {},
   "outputs": [
    {
     "name": "stdout",
     "output_type": "stream",
     "text": [
      "   VendorID tpep_pickup_datetime tpep_dropoff_datetime passenger_count  \\\n",
      "0         2  2024-02-01 00:04:45   2024-02-01 00:19:58             1.0   \n",
      "1         2  2024-02-01 00:56:31   2024-02-01 01:10:53             1.0   \n",
      "2         2  2024-02-01 00:07:50   2024-02-01 00:43:12             2.0   \n",
      "3         1  2024-02-01 00:01:49   2024-02-01 00:10:47             1.0   \n",
      "4         1  2024-02-01 00:37:35   2024-02-01 00:51:15             1.0   \n",
      "5         1  2024-02-01 00:55:17   2024-02-01 01:01:53             1.0   \n",
      "6         2  2024-02-01 00:04:53   2024-02-01 00:17:07             1.0   \n",
      "7         2  2024-02-01 00:35:00   2024-02-01 00:43:37             1.0   \n",
      "8         2  2024-02-01 00:00:15   2024-02-01 00:05:07             1.0   \n",
      "9         2  2024-02-01 00:25:55   2024-02-01 00:31:52             1.0   \n",
      "\n",
      "  trip_distance RatecodeID store_and_fwd_flag  PULocationID  DOLocationID  \\\n",
      "0          4.39        1.0                  N            68           236   \n",
      "1          7.71        1.0                  N            48           243   \n",
      "2         28.69        2.0                  N           132           261   \n",
      "3           1.1        1.0                  N           161           163   \n",
      "4           2.6        1.0                  N           246            79   \n",
      "5           0.8        1.0                  N            79             4   \n",
      "6          2.76        1.0                  N           249           163   \n",
      "7          2.51        1.0                  N           163           151   \n",
      "8          1.37        1.0                  N           246            48   \n",
      "9          1.59        1.0                  N           107           233   \n",
      "\n",
      "   payment_type fare_amount extra mta_tax tip_amount tolls_amount  \\\n",
      "0             1        20.5   1.0     0.5       1.28          0.0   \n",
      "1             1        31.0   1.0     0.5        9.0          0.0   \n",
      "2             2        70.0   0.0     0.5        0.0         6.94   \n",
      "3             1         9.3   3.5     0.5       2.85          0.0   \n",
      "4             2        15.6   3.5     0.5        0.0          0.0   \n",
      "5             1         7.9   3.5     0.5       2.55          0.0   \n",
      "6             1        14.2   1.0     0.5       3.84          0.0   \n",
      "7             1        12.8   1.0     0.5       3.56          0.0   \n",
      "8             2         7.9   1.0     0.5        0.0          0.0   \n",
      "9             1         9.3   1.0     0.5       2.86          0.0   \n",
      "\n",
      "  improvement_surcharge total_amount congestion_surcharge Airport_fee  \n",
      "0                   1.0        26.78                  2.5         0.0  \n",
      "1                   1.0         45.0                  2.5         0.0  \n",
      "2                   1.0        82.69                  2.5        1.75  \n",
      "3                   1.0        17.15                  2.5         0.0  \n",
      "4                   1.0         20.6                  2.5         0.0  \n",
      "5                   1.0        15.45                  2.5         0.0  \n",
      "6                   1.0        23.04                  2.5         0.0  \n",
      "7                   1.0        21.36                  2.5         0.0  \n",
      "8                   1.0         12.9                  2.5         0.0  \n",
      "9                   1.0        17.16                  2.5         0.0  \n"
     ]
    }
   ],
   "source": [
    "import pandas as pd\n",
    "\n",
    "df = pd.read_parquet('data/organized/2024-02/yellow_tripdata_2024-02.parquet')\n",
    "\n",
    "import numpy as np\n",
    "df.replace({np.nan: None}, inplace=True)\n",
    "\n",
    "print(df.head(10))\n"
   ]
  },
  {
   "cell_type": "code",
   "execution_count": null,
   "id": "8061a713-35de-4306-b390-16361a3dda2b",
   "metadata": {},
   "outputs": [],
   "source": [
    "import psycopg2\n",
    "import urllib.parse\n",
    "\n",
    "dbname = 'nyc'\n",
    "user = 'postgres'\n",
    "password = 'password'\n",
    "host = 'localhost'  # or your database server IP\n",
    "port=5433\n",
    "\n",
    "conn = psycopg2.connect(dbname=dbname, user=user, password=password, host=host, port=port)"
   ]
  },
  {
   "cell_type": "code",
   "execution_count": 40,
   "id": "c5fb5fde-86c5-4711-ae60-82fd7ede0dd9",
   "metadata": {},
   "outputs": [
    {
     "name": "stdout",
     "output_type": "stream",
     "text": [
      "Data inserted successfully!\n"
     ]
    }
   ],
   "source": [
    "cursor = conn.cursor()\n",
    "\n",
    "# 3. Define the INSERT statement matching the EXACT order of your DataFrame columns\n",
    "insert_statement = \"\"\"\n",
    "INSERT INTO green_tripdata_2024_01 (\n",
    "    VendorID,\n",
    "    lpep_pickup_datetime,\n",
    "    lpep_dropoff_datetime,\n",
    "    store_and_fwd_flag,\n",
    "    RatecodeID,\n",
    "    PULocationID,\n",
    "    DOLocationID,\n",
    "    passenger_count,\n",
    "    trip_distance,\n",
    "    fare_amount,\n",
    "    extra,\n",
    "    mta_tax,\n",
    "    tip_amount,\n",
    "    tolls_amount,\n",
    "    ehail_fee,\n",
    "    improvement_surcharge,\n",
    "    total_amount,\n",
    "    payment_type,\n",
    "    trip_type,\n",
    "    congestion_surcharge\n",
    ")\n",
    "VALUES (%s, %s, %s, %s, %s, %s, %s, %s, %s, %s, %s, %s, %s, %s, %s, %s, %s, %s, %s, %s)\n",
    "\"\"\"\n",
    "\n",
    "# 4. Insert each row\n",
    "#    Here we assume df columns are in EXACT order:\n",
    "#    ['VendorID', 'lpep_pickup_datetime', 'lpep_dropoff_datetime', 'store_and_fwd_flag', \n",
    "#     'RatecodeID', 'PULocationID', 'DOLocationID', 'passenger_count', 'trip_distance', \n",
    "#     'fare_amount', 'extra', 'mta_tax', 'tip_amount', 'tolls_amount', 'ehail_fee', \n",
    "#     'improvement_surcharge', 'total_amount', 'payment_type', 'trip_type', 'congestion_surcharge']\n",
    "for row in df.itertuples(index=False, name=None):\n",
    "    try:\n",
    "        cursor.execute(insert_statement, row)\n",
    "        print\n",
    "    except Exception as e:\n",
    "        print(f\"Row failed: {row} - {e}\")\n",
    "        conn.rollback()  # Clears the aborted state\n",
    "        # optionally skip or transform the bad row\n",
    "        # continue  # then move on\n",
    "\n",
    "# 5. Commit and close\n",
    "conn.commit()\n",
    "cursor.close()\n",
    "conn.close()\n",
    "print(\"Data inserted successfully!\")"
   ]
  },
  {
   "cell_type": "code",
   "execution_count": null,
   "id": "9c7283b5-ac7c-41e9-9657-6f27593f62e2",
   "metadata": {},
   "outputs": [],
   "source": []
  },
  {
   "cell_type": "code",
   "execution_count": null,
   "id": "35343232-c3ae-4bbc-a723-be46c0f6f4dd",
   "metadata": {},
   "outputs": [],
   "source": []
  }
 ],
 "metadata": {
  "kernelspec": {
   "display_name": "Python 3.9.9 (conda-forge)",
   "language": "python",
   "name": "py39"
  },
  "language_info": {
   "codemirror_mode": {
    "name": "ipython",
    "version": 3
   },
   "file_extension": ".py",
   "mimetype": "text/x-python",
   "name": "python",
   "nbconvert_exporter": "python",
   "pygments_lexer": "ipython3",
   "version": "3.9.9"
  }
 },
 "nbformat": 4,
 "nbformat_minor": 5
}
